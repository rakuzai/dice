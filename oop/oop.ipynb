{
 "cells": [
  {
   "cell_type": "code",
   "execution_count": 44,
   "metadata": {},
   "outputs": [],
   "source": [
    "class Car:\n",
    "  def __init__(self, color, license_number): # constructor\n",
    "      self.license_number = license_number\n",
    "      self.color = color # object/instance attribute\n",
    "      self.engine_status = False # object/instance attribute\n",
    "\n",
    "  def starts(self): # method\n",
    "      self.engine_status = True\n",
    "      return \"Car status\"\n",
    "\n",
    "  def stops(self): # method\n",
    "      self.engine_status = False\n",
    "      return \"Car stops\""
   ]
  },
  {
   "cell_type": "code",
   "execution_count": 45,
   "metadata": {},
   "outputs": [
    {
     "name": "stdout",
     "output_type": "stream",
     "text": [
      "False\n",
      "Car status\n",
      "True\n"
     ]
    }
   ],
   "source": [
    "#cara membuat objek\n",
    "my_car = Car(color='red', license_number=1234)\n",
    "my_car_two = Car(color='blue', license_number=4321)\n",
    "\n",
    "print(my_car.engine_status)\n",
    "print(my_car.starts())\n",
    "print(my_car.engine_status)"
   ]
  },
  {
   "cell_type": "code",
   "execution_count": 49,
   "metadata": {},
   "outputs": [],
   "source": [
    "class Cat:\n",
    "    def __init__(self, warna, jenis_kelamin, umur):\n",
    "        self.warna = warna\n",
    "        self.jenis_kelamin = jenis_kelamin\n",
    "        self.umur = umur\n",
    "\n",
    "    def marah(self):\n",
    "        self.warna = \"merah\"\n",
    "        return 'kucing ini marah'\n",
    "        "
   ]
  },
  {
   "cell_type": "code",
   "execution_count": 53,
   "metadata": {},
   "outputs": [
    {
     "name": "stdout",
     "output_type": "stream",
     "text": [
      "White\n",
      "kucing ini marah\n",
      "merah\n"
     ]
    }
   ],
   "source": [
    "meimei = Cat(warna='White', jenis_kelamin='Betina', umur=20)\n",
    "tojali = Cat(warna='Black', jenis_kelamin='Jantan', umur=10)\n",
    "\n",
    "\n",
    "print(meimei.warna)\n",
    "print(meimei.marah())\n",
    "print(meimei.warna)"
   ]
  },
  {
   "cell_type": "code",
   "execution_count": 106,
   "metadata": {},
   "outputs": [],
   "source": [
    "class BankAccount:\n",
    "    def __init__(self, nama, saldo=0):\n",
    "        self.nama = nama\n",
    "        self.saldo = saldo\n",
    "\n",
    "    def deposit(self, jumlah_deposit):\n",
    "        self.saldo += jumlah_deposit\n",
    "        return f'berhasil deposit sebanyak {jumlah_deposit}'\n",
    "\n",
    "    def cek_saldo(self):\n",
    "        return f'saldo anda sekarang {self.saldo}'\n",
    "    \n",
    "    def tarik(self, jumlah_tarik):\n",
    "        if jumlah_tarik > self.saldo:\n",
    "            return 'saldo anda tidak cukup'\n",
    "        else:\n",
    "            self.saldo -= jumlah_tarik\n",
    "            return f'jumlah saldo anda sekarang {self.saldo}'"
   ]
  },
  {
   "cell_type": "code",
   "execution_count": 107,
   "metadata": {},
   "outputs": [
    {
     "name": "stdout",
     "output_type": "stream",
     "text": [
      "Rojali Jr.\n"
     ]
    }
   ],
   "source": [
    "akun1 = BankAccount(nama='Rojali Jr.')\n",
    "print(akun1.nama)"
   ]
  },
  {
   "cell_type": "code",
   "execution_count": 108,
   "metadata": {},
   "outputs": [
    {
     "data": {
      "text/plain": [
       "'saldo anda sekarang 0'"
      ]
     },
     "execution_count": 108,
     "metadata": {},
     "output_type": "execute_result"
    }
   ],
   "source": [
    "akun1.cek_saldo()"
   ]
  },
  {
   "cell_type": "code",
   "execution_count": 109,
   "metadata": {},
   "outputs": [
    {
     "data": {
      "text/plain": [
       "'berhasil deposit sebanyak 100'"
      ]
     },
     "execution_count": 109,
     "metadata": {},
     "output_type": "execute_result"
    }
   ],
   "source": [
    "akun1.deposit(100)"
   ]
  },
  {
   "cell_type": "code",
   "execution_count": 110,
   "metadata": {},
   "outputs": [
    {
     "data": {
      "text/plain": [
       "'saldo anda sekarang 100'"
      ]
     },
     "execution_count": 110,
     "metadata": {},
     "output_type": "execute_result"
    }
   ],
   "source": [
    "akun1.cek_saldo()"
   ]
  },
  {
   "cell_type": "code",
   "execution_count": 111,
   "metadata": {},
   "outputs": [
    {
     "data": {
      "text/plain": [
       "'jumlah saldo anda sekarang 90'"
      ]
     },
     "execution_count": 111,
     "metadata": {},
     "output_type": "execute_result"
    }
   ],
   "source": [
    "akun1.tarik(10)"
   ]
  },
  {
   "cell_type": "code",
   "execution_count": 112,
   "metadata": {},
   "outputs": [
    {
     "data": {
      "text/plain": [
       "'saldo anda sekarang 90'"
      ]
     },
     "execution_count": 112,
     "metadata": {},
     "output_type": "execute_result"
    }
   ],
   "source": [
    "akun1.cek_saldo()"
   ]
  },
  {
   "cell_type": "code",
   "execution_count": 113,
   "metadata": {},
   "outputs": [
    {
     "data": {
      "text/plain": [
       "'saldo anda tidak cukup'"
      ]
     },
     "execution_count": 113,
     "metadata": {},
     "output_type": "execute_result"
    }
   ],
   "source": [
    "akun1.tarik(1000)"
   ]
  },
  {
   "cell_type": "code",
   "execution_count": 114,
   "metadata": {},
   "outputs": [
    {
     "data": {
      "text/plain": [
       "'berhasil deposit sebanyak 10000'"
      ]
     },
     "execution_count": 114,
     "metadata": {},
     "output_type": "execute_result"
    }
   ],
   "source": [
    "akun1.deposit(10000)"
   ]
  },
  {
   "cell_type": "code",
   "execution_count": 115,
   "metadata": {},
   "outputs": [
    {
     "data": {
      "text/plain": [
       "'saldo anda sekarang 10090'"
      ]
     },
     "execution_count": 115,
     "metadata": {},
     "output_type": "execute_result"
    }
   ],
   "source": [
    "akun1.cek_saldo()"
   ]
  },
  {
   "cell_type": "code",
   "execution_count": null,
   "metadata": {},
   "outputs": [],
   "source": []
  }
 ],
 "metadata": {
  "kernelspec": {
   "display_name": "bda",
   "language": "python",
   "name": "python3"
  },
  "language_info": {
   "codemirror_mode": {
    "name": "ipython",
    "version": 3
   },
   "file_extension": ".py",
   "mimetype": "text/x-python",
   "name": "python",
   "nbconvert_exporter": "python",
   "pygments_lexer": "ipython3",
   "version": "3.11.5"
  }
 },
 "nbformat": 4,
 "nbformat_minor": 2
}
